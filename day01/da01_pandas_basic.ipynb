{
 "cells": [
  {
   "attachments": {},
   "cell_type": "markdown",
   "metadata": {},
   "source": [
    "### Pandas 기초\n",
    "\n",
    "### 가상환경 설치\n",
    "\n",
    "Virtualenv 모듈 설치\n",
    "\n",
    "```\n",
    "> !pip install virtualenv\n",
    "```"
   ]
  },
  {
   "cell_type": "code",
   "execution_count": 1,
   "metadata": {},
   "outputs": [
    {
     "name": "stdout",
     "output_type": "stream",
     "text": [
      "Requirement already satisfied: virtualenv in c:\\dev\\langs\\python311\\lib\\site-packages (20.17.1)\n",
      "Requirement already satisfied: distlib<1,>=0.3.6 in c:\\dev\\langs\\python311\\lib\\site-packages (from virtualenv) (0.3.6)\n",
      "Requirement already satisfied: filelock<4,>=3.4.1 in c:\\dev\\langs\\python311\\lib\\site-packages (from virtualenv) (3.9.0)\n",
      "Requirement already satisfied: platformdirs<3,>=2.4 in c:\\dev\\langs\\python311\\lib\\site-packages (from virtualenv) (2.6.2)\n"
     ]
    }
   ],
   "source": [
    "!pip install virtualenv"
   ]
  },
  {
   "attachments": {},
   "cell_type": "markdown",
   "metadata": {},
   "source": [
    "#### 가상환경 설정\n",
    "\n",
    "```\n",
    "> virtualenv da_env\n",
    "```\n",
    "\n",
    "- 주피터 노트북 커널을 da_env(Python 3.11.2) 로 변경 (우측 상단)\n",
    "- ipykerenl 설치 (아나콘다, VSCode에서 주피터 노트북 사용시 필수)\n",
    "\n",
    "##### 가상환경 패키지(pip) 확인"
   ]
  },
  {
   "cell_type": "code",
   "execution_count": 1,
   "metadata": {},
   "outputs": [
    {
     "name": "stdout",
     "output_type": "stream",
     "text": [
      "Package           Version\n",
      "----------------- -------\n",
      "asttokens         2.2.1\n",
      "backcall          0.2.0\n",
      "colorama          0.4.6\n",
      "comm              0.1.4\n",
      "debugpy           1.6.7\n",
      "decorator         5.1.1\n",
      "executing         1.2.0\n",
      "ipykernel         6.25.1\n",
      "ipython           8.14.0\n",
      "jedi              0.19.0\n",
      "jupyter_client    8.3.0\n",
      "jupyter_core      5.3.1\n",
      "matplotlib-inline 0.1.6\n",
      "nest-asyncio      1.5.7\n",
      "packaging         23.1\n",
      "parso             0.8.3\n",
      "pickleshare       0.7.5\n",
      "pip               23.0\n",
      "platformdirs      3.10.0\n",
      "prompt-toolkit    3.0.39\n",
      "psutil            5.9.5\n",
      "pure-eval         0.2.2\n",
      "Pygments          2.16.1\n",
      "python-dateutil   2.8.2\n",
      "pywin32           306\n",
      "pyzmq             25.1.0\n",
      "setuptools        67.1.0\n",
      "six               1.16.0\n",
      "stack-data        0.6.2\n",
      "tornado           6.3.2\n",
      "traitlets         5.9.0\n",
      "wcwidth           0.2.6\n",
      "wheel             0.38.4\n"
     ]
    },
    {
     "name": "stderr",
     "output_type": "stream",
     "text": [
      "\n",
      "[notice] A new release of pip is available: 23.0 -> 23.2.1\n",
      "[notice] To update, run: python.exe -m pip install --upgrade pip\n"
     ]
    }
   ],
   "source": [
    "!pip list"
   ]
  },
  {
   "attachments": {},
   "cell_type": "markdown",
   "metadata": {},
   "source": [
    "##### 판다스 설치\n",
    "```\n",
    "!pip install pandas\n",
    "```\n",
    "\n",
    "- Pandas : 2.0.3\n",
    "- Numpy : 1.25.2"
   ]
  },
  {
   "cell_type": "code",
   "execution_count": 2,
   "metadata": {},
   "outputs": [
    {
     "name": "stdout",
     "output_type": "stream",
     "text": [
      "Collecting pandas\n",
      "  Downloading pandas-2.0.3-cp311-cp311-win_amd64.whl (10.6 MB)\n",
      "     ---------------------------------------- 0.0/10.6 MB ? eta -:--:--\n",
      "     -- ------------------------------------- 0.6/10.6 MB 18.8 MB/s eta 0:00:01\n",
      "     ------- -------------------------------- 2.0/10.6 MB 25.7 MB/s eta 0:00:01\n",
      "     ---------------- ----------------------- 4.5/10.6 MB 35.9 MB/s eta 0:00:01\n",
      "     ---------------------------- ----------- 7.5/10.6 MB 44.1 MB/s eta 0:00:01\n",
      "     ------------------------------- -------- 8.4/10.6 MB 44.8 MB/s eta 0:00:01\n",
      "     ------------------------------- -------- 8.4/10.6 MB 44.8 MB/s eta 0:00:01\n",
      "     ------------------------------- -------- 8.4/10.6 MB 44.8 MB/s eta 0:00:01\n",
      "     ------------------------------- -------- 8.4/10.6 MB 44.8 MB/s eta 0:00:01\n",
      "     ------------------------------- -------- 8.4/10.6 MB 44.8 MB/s eta 0:00:01\n",
      "     ------------------------------- -------- 8.4/10.6 MB 44.8 MB/s eta 0:00:01\n",
      "     --------------------------------- ------ 9.0/10.6 MB 18.0 MB/s eta 0:00:01\n",
      "     ------------------------------------- - 10.1/10.6 MB 18.5 MB/s eta 0:00:01\n",
      "     --------------------------------------  10.6/10.6 MB 19.9 MB/s eta 0:00:01\n",
      "     --------------------------------------  10.6/10.6 MB 19.9 MB/s eta 0:00:01\n",
      "     --------------------------------------  10.6/10.6 MB 19.9 MB/s eta 0:00:01\n",
      "     --------------------------------------  10.6/10.6 MB 19.9 MB/s eta 0:00:01\n",
      "     --------------------------------------  10.6/10.6 MB 19.9 MB/s eta 0:00:01\n",
      "     --------------------------------------  10.6/10.6 MB 19.9 MB/s eta 0:00:01\n",
      "     --------------------------------------  10.6/10.6 MB 19.9 MB/s eta 0:00:01\n",
      "     --------------------------------------- 10.6/10.6 MB 11.9 MB/s eta 0:00:00\n",
      "Requirement already satisfied: python-dateutil>=2.8.2 in c:\\source\\iot-bigdata-2023\\da_env\\lib\\site-packages (from pandas) (2.8.2)\n",
      "Collecting pytz>=2020.1\n",
      "  Downloading pytz-2023.3-py2.py3-none-any.whl (502 kB)\n",
      "     ---------------------------------------- 0.0/502.3 kB ? eta -:--:--\n",
      "     ---------------------------------------  501.8/502.3 kB ? eta -:--:--\n",
      "     -------------------------------------- 502.3/502.3 kB 7.8 MB/s eta 0:00:00\n",
      "Collecting tzdata>=2022.1\n",
      "  Downloading tzdata-2023.3-py2.py3-none-any.whl (341 kB)\n",
      "     ---------------------------------------- 0.0/341.8 kB ? eta -:--:--\n",
      "     ---------------------------------------  337.9/341.8 kB ? eta -:--:--\n",
      "     -------------------------------------- 341.8/341.8 kB 7.1 MB/s eta 0:00:00\n",
      "Collecting numpy>=1.21.0\n",
      "  Downloading numpy-1.25.2-cp311-cp311-win_amd64.whl (15.5 MB)\n",
      "     ---------------------------------------- 0.0/15.5 MB ? eta -:--:--\n",
      "     ------- ------------------------------- 3.1/15.5 MB 101.1 MB/s eta 0:00:01\n",
      "     ------- ------------------------------- 3.1/15.5 MB 101.1 MB/s eta 0:00:01\n",
      "     ------- ------------------------------- 3.1/15.5 MB 101.1 MB/s eta 0:00:01\n",
      "     ------- ------------------------------- 3.1/15.5 MB 101.1 MB/s eta 0:00:01\n",
      "     -------- ------------------------------- 3.3/15.5 MB 13.8 MB/s eta 0:00:01\n",
      "     ---------- ----------------------------- 3.9/15.5 MB 13.8 MB/s eta 0:00:01\n",
      "     ----------- ---------------------------- 4.5/15.5 MB 13.7 MB/s eta 0:00:01\n",
      "     ---------------- ----------------------- 6.5/15.5 MB 17.3 MB/s eta 0:00:01\n",
      "     --------------------- ------------------ 8.3/15.5 MB 19.7 MB/s eta 0:00:01\n",
      "     -------------------------- ------------ 10.6/15.5 MB 21.8 MB/s eta 0:00:01\n",
      "     --------------------------------- ----- 13.5/15.5 MB 36.4 MB/s eta 0:00:01\n",
      "     --------------------------------------  15.3/15.5 MB 46.7 MB/s eta 0:00:01\n",
      "     --------------------------------------  15.5/15.5 MB 46.7 MB/s eta 0:00:01\n",
      "     --------------------------------------  15.5/15.5 MB 46.7 MB/s eta 0:00:01\n",
      "     --------------------------------------  15.5/15.5 MB 46.7 MB/s eta 0:00:01\n",
      "     --------------------------------------- 15.5/15.5 MB 26.1 MB/s eta 0:00:00\n",
      "Requirement already satisfied: six>=1.5 in c:\\source\\iot-bigdata-2023\\da_env\\lib\\site-packages (from python-dateutil>=2.8.2->pandas) (1.16.0)\n",
      "Installing collected packages: pytz, tzdata, numpy, pandas\n",
      "Successfully installed numpy-1.25.2 pandas-2.0.3 pytz-2023.3 tzdata-2023.3\n"
     ]
    },
    {
     "name": "stderr",
     "output_type": "stream",
     "text": [
      "\n",
      "[notice] A new release of pip is available: 23.0 -> 23.2.1\n",
      "[notice] To update, run: python.exe -m pip install --upgrade pip\n"
     ]
    }
   ],
   "source": [
    "!pip install pandas"
   ]
  },
  {
   "cell_type": "code",
   "execution_count": 3,
   "metadata": {},
   "outputs": [
    {
     "name": "stdout",
     "output_type": "stream",
     "text": [
      "Name: pandas\n",
      "Version: 2.0.3\n",
      "Summary: Powerful data structures for data analysis, time series, and statistics\n",
      "Home-page: \n",
      "Author: \n",
      "Author-email: The Pandas Development Team <pandas-dev@python.org>\n",
      "License: BSD 3-Clause License\n",
      "\n",
      "Copyright (c) 2008-2011, AQR Capital Management, LLC, Lambda Foundry, Inc. and PyData Development Team\n",
      "All rights reserved.\n",
      "\n",
      "Copyright (c) 2011-2023, Open source contributors.\n",
      "\n",
      "Redistribution and use in source and binary forms, with or without\n",
      "modification, are permitted provided that the following conditions are met:\n",
      "\n",
      "* Redistributions of source code must retain the above copyright notice, this\n",
      "  list of conditions and the following disclaimer.\n",
      "\n",
      "* Redistributions in binary form must reproduce the above copyright notice,\n",
      "  this list of conditions and the following disclaimer in the documentation\n",
      "  and/or other materials provided with the distribution.\n",
      "\n",
      "* Neither the name of the copyright holder nor the names of its\n",
      "  contributors may be used to endorse or promote products derived from\n",
      "  this software without specific prior written permission.\n",
      "\n",
      "THIS SOFTWARE IS PROVIDED BY THE COPYRIGHT HOLDERS AND CONTRIBUTORS \"AS IS\"\n",
      "AND ANY EXPRESS OR IMPLIED WARRANTIES, INCLUDING, BUT NOT LIMITED TO, THE\n",
      "IMPLIED WARRANTIES OF MERCHANTABILITY AND FITNESS FOR A PARTICULAR PURPOSE ARE\n",
      "DISCLAIMED. IN NO EVENT SHALL THE COPYRIGHT HOLDER OR CONTRIBUTORS BE LIABLE\n",
      "FOR ANY DIRECT, INDIRECT, INCIDENTAL, SPECIAL, EXEMPLARY, OR CONSEQUENTIAL\n",
      "DAMAGES (INCLUDING, BUT NOT LIMITED TO, PROCUREMENT OF SUBSTITUTE GOODS OR\n",
      "SERVICES; LOSS OF USE, DATA, OR PROFITS; OR BUSINESS INTERRUPTION) HOWEVER\n",
      "CAUSED AND ON ANY THEORY OF LIABILITY, WHETHER IN CONTRACT, STRICT LIABILITY,\n",
      "OR TORT (INCLUDING NEGLIGENCE OR OTHERWISE) ARISING IN ANY WAY OUT OF THE USE\n",
      "OF THIS SOFTWARE, EVEN IF ADVISED OF THE POSSIBILITY OF SUCH DAMAGE.\n",
      "\n",
      "Location: C:\\Source\\iot-bigdata-2023\\da_env\\Lib\\site-packages\n",
      "Requires: numpy, numpy, python-dateutil, pytz, tzdata\n",
      "Required-by: \n"
     ]
    }
   ],
   "source": [
    "!pip show pandas"
   ]
  },
  {
   "cell_type": "code",
   "execution_count": 4,
   "metadata": {},
   "outputs": [
    {
     "name": "stdout",
     "output_type": "stream",
     "text": [
      "Name: numpy\n",
      "Version: 1.25.2\n",
      "Summary: Fundamental package for array computing in Python\n",
      "Home-page: https://www.numpy.org\n",
      "Author: Travis E. Oliphant et al.\n",
      "Author-email: \n",
      "License: BSD-3-Clause\n",
      "Location: C:\\Source\\iot-bigdata-2023\\da_env\\Lib\\site-packages\n",
      "Requires: \n",
      "Required-by: pandas\n"
     ]
    }
   ],
   "source": [
    "!pip show numpy"
   ]
  },
  {
   "attachments": {},
   "cell_type": "markdown",
   "metadata": {},
   "source": [
    "#### 판다스 기초\n",
    "\n",
    "##### 개요\n"
   ]
  }
 ],
 "metadata": {
  "kernelspec": {
   "display_name": "da_env",
   "language": "python",
   "name": "python3"
  },
  "language_info": {
   "codemirror_mode": {
    "name": "ipython",
    "version": 3
   },
   "file_extension": ".py",
   "mimetype": "text/x-python",
   "name": "python",
   "nbconvert_exporter": "python",
   "pygments_lexer": "ipython3",
   "version": "3.11.2"
  },
  "orig_nbformat": 4,
  "vscode": {
   "interpreter": {
    "hash": "b97619c6d15e2a1db87c6554249cf823fefd4d30d244fc05ba6285b24f78ff5c"
   }
  }
 },
 "nbformat": 4,
 "nbformat_minor": 2
}
